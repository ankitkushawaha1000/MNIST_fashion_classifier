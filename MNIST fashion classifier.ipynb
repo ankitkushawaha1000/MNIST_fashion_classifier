{
 "cells": [
  {
   "cell_type": "code",
   "execution_count": 43,
   "metadata": {},
   "outputs": [],
   "source": [
    "import numpy as np\n",
    "import matplotlib.pyplot as plt\n",
    "import tensorflow as tf\n",
    "from tensorflow import keras\n",
    "from tensorflow.keras.datasets import fashion_mnist\n",
    "from tensorflow.keras.utils import to_categorical\n",
    "from tensorflow.keras import Sequential\n",
    "from tensorflow.keras import layers\n",
    "from tensorflow.keras.layers import Conv2D,Dropout,MaxPooling2D,Flatten,Dense\n",
    "from tensorflow.keras.callbacks import ModelCheckpoint\n",
    "%matplotlib inline\n",
    "# tf.keras.datasets.fashion_mnist.load_data()"
   ]
  },
  {
   "cell_type": "code",
   "execution_count": 2,
   "metadata": {},
   "outputs": [],
   "source": [
    "from tensorflow.keras import layers"
   ]
  },
  {
   "cell_type": "code",
   "execution_count": 3,
   "metadata": {},
   "outputs": [],
   "source": [
    "(train_x, train_y), (test_x, test_y) = fashion_mnist.load_data()"
   ]
  },
  {
   "cell_type": "code",
   "execution_count": 4,
   "metadata": {},
   "outputs": [
    {
     "data": {
      "text/plain": [
       "(60000, 28, 28)"
      ]
     },
     "execution_count": 4,
     "metadata": {},
     "output_type": "execute_result"
    }
   ],
   "source": [
    "train_x.shape"
   ]
  },
  {
   "cell_type": "code",
   "execution_count": 5,
   "metadata": {},
   "outputs": [
    {
     "data": {
      "text/plain": [
       "(10000, 28, 28)"
      ]
     },
     "execution_count": 5,
     "metadata": {},
     "output_type": "execute_result"
    }
   ],
   "source": [
    "test_x.shape"
   ]
  },
  {
   "cell_type": "code",
   "execution_count": 6,
   "metadata": {},
   "outputs": [],
   "source": [
    "train_x = train_x.astype('float32')/255\n",
    "test_x = test_x.astype('float32')/255"
   ]
  },
  {
   "cell_type": "code",
   "execution_count": 7,
   "metadata": {},
   "outputs": [
    {
     "data": {
      "text/plain": [
       "(60000, 28, 28)"
      ]
     },
     "execution_count": 7,
     "metadata": {},
     "output_type": "execute_result"
    }
   ],
   "source": [
    "train_x.shape"
   ]
  },
  {
   "cell_type": "code",
   "execution_count": 8,
   "metadata": {},
   "outputs": [
    {
     "data": {
      "text/plain": [
       "array([[0.        , 0.        , 0.        , 0.        , 0.        ,\n",
       "        0.        , 0.        , 0.        , 0.        , 0.08627451,\n",
       "        0.4627451 , 0.09411765, 0.        , 0.        , 0.        ,\n",
       "        0.        , 0.        , 0.1882353 , 0.34509805, 0.01960784,\n",
       "        0.        , 0.        , 0.        , 0.        , 0.        ,\n",
       "        0.        , 0.        , 0.        ],\n",
       "       [0.        , 0.        , 0.        , 0.        , 0.        ,\n",
       "        0.        , 0.        , 0.        , 0.04705882, 0.39215687,\n",
       "        0.83137256, 0.8039216 , 0.7254902 , 0.7019608 , 0.6784314 ,\n",
       "        0.7294118 , 0.75686276, 0.8666667 , 0.5568628 , 0.33333334,\n",
       "        0.        , 0.        , 0.        , 0.        , 0.        ,\n",
       "        0.        , 0.        , 0.        ],\n",
       "       [0.        , 0.        , 0.        , 0.        , 0.        ,\n",
       "        0.        , 0.        , 0.        , 0.        , 0.33333334,\n",
       "        0.29803923, 0.78039217, 0.88235295, 0.972549  , 1.        ,\n",
       "        0.93333334, 0.8862745 , 0.6156863 , 0.26666668, 0.3137255 ,\n",
       "        0.        , 0.        , 0.        , 0.        , 0.        ,\n",
       "        0.        , 0.        , 0.        ],\n",
       "       [0.        , 0.        , 0.        , 0.        , 0.        ,\n",
       "        0.        , 0.        , 0.        , 0.        , 0.35686275,\n",
       "        0.27058825, 0.35686275, 0.7882353 , 0.85490197, 0.88235295,\n",
       "        0.81960785, 0.61960787, 0.23921569, 0.3647059 , 0.28235295,\n",
       "        0.        , 0.        , 0.        , 0.        , 0.        ,\n",
       "        0.        , 0.        , 0.        ],\n",
       "       [0.        , 0.        , 0.        , 0.        , 0.        ,\n",
       "        0.        , 0.        , 0.        , 0.        , 0.30980393,\n",
       "        0.34901962, 0.23921569, 0.23137255, 0.34117648, 0.42352942,\n",
       "        0.29411766, 0.21960784, 0.29803923, 0.38039216, 0.28627452,\n",
       "        0.        , 0.        , 0.        , 0.        , 0.        ,\n",
       "        0.        , 0.        , 0.        ],\n",
       "       [0.        , 0.        , 0.        , 0.        , 0.        ,\n",
       "        0.        , 0.        , 0.        , 0.        , 0.29411766,\n",
       "        0.34901962, 0.3137255 , 0.3137255 , 0.2627451 , 0.24705882,\n",
       "        0.28627452, 0.3254902 , 0.3137255 , 0.3764706 , 0.28235295,\n",
       "        0.        , 0.        , 0.        , 0.        , 0.        ,\n",
       "        0.        , 0.        , 0.        ],\n",
       "       [0.        , 0.        , 0.        , 0.        , 0.        ,\n",
       "        0.        , 0.        , 0.        , 0.        , 0.3019608 ,\n",
       "        0.34509805, 0.3019608 , 0.3137255 , 0.3254902 , 0.3254902 ,\n",
       "        0.3254902 , 0.3254902 , 0.31764707, 0.37254903, 0.29803923,\n",
       "        0.        , 0.        , 0.        , 0.        , 0.        ,\n",
       "        0.        , 0.        , 0.        ],\n",
       "       [0.        , 0.        , 0.        , 0.        , 0.        ,\n",
       "        0.        , 0.        , 0.        , 0.        , 0.34901962,\n",
       "        0.3764706 , 0.3137255 , 0.3254902 , 0.31764707, 0.32941177,\n",
       "        0.33333334, 0.33333334, 0.33333334, 0.38039216, 0.32941177,\n",
       "        0.        , 0.        , 0.        , 0.        , 0.        ,\n",
       "        0.        , 0.        , 0.        ],\n",
       "       [0.        , 0.        , 0.        , 0.        , 0.        ,\n",
       "        0.        , 0.        , 0.        , 0.        , 0.3647059 ,\n",
       "        0.38039216, 0.31764707, 0.33333334, 0.32941177, 0.33333334,\n",
       "        0.34117648, 0.34509805, 0.32941177, 0.3882353 , 0.34117648,\n",
       "        0.        , 0.        , 0.        , 0.        , 0.        ,\n",
       "        0.        , 0.        , 0.        ],\n",
       "       [0.        , 0.        , 0.        , 0.        , 0.        ,\n",
       "        0.        , 0.        , 0.        , 0.        , 0.37254903,\n",
       "        0.34117648, 0.32941177, 0.34117648, 0.34509805, 0.33333334,\n",
       "        0.34117648, 0.34117648, 0.32941177, 0.36078432, 0.34117648,\n",
       "        0.        , 0.        , 0.        , 0.        , 0.        ,\n",
       "        0.        , 0.        , 0.        ],\n",
       "       [0.        , 0.        , 0.        , 0.        , 0.        ,\n",
       "        0.        , 0.        , 0.        , 0.        , 0.38039216,\n",
       "        0.34117648, 0.34117648, 0.33333334, 0.34509805, 0.34117648,\n",
       "        0.34117648, 0.34117648, 0.34509805, 0.33333334, 0.41960785,\n",
       "        0.        , 0.        , 0.        , 0.        , 0.        ,\n",
       "        0.        , 0.        , 0.        ],\n",
       "       [0.        , 0.        , 0.        , 0.        , 0.        ,\n",
       "        0.        , 0.        , 0.        , 0.06666667, 0.39215687,\n",
       "        0.34509805, 0.34117648, 0.34117648, 0.34509805, 0.34117648,\n",
       "        0.34117648, 0.33333334, 0.34901962, 0.3019608 , 0.4627451 ,\n",
       "        0.03137255, 0.        , 0.        , 0.        , 0.        ,\n",
       "        0.        , 0.        , 0.        ],\n",
       "       [0.        , 0.        , 0.        , 0.        , 0.        ,\n",
       "        0.        , 0.        , 0.        , 0.03921569, 0.3647059 ,\n",
       "        0.34117648, 0.34117648, 0.34117648, 0.34117648, 0.34117648,\n",
       "        0.34509805, 0.34117648, 0.34901962, 0.3137255 , 0.40392157,\n",
       "        0.        , 0.        , 0.        , 0.        , 0.        ,\n",
       "        0.        , 0.        , 0.        ],\n",
       "       [0.        , 0.        , 0.        , 0.        , 0.        ,\n",
       "        0.        , 0.        , 0.        , 0.03529412, 0.3764706 ,\n",
       "        0.34117648, 0.34117648, 0.34117648, 0.34117648, 0.34117648,\n",
       "        0.34509805, 0.34117648, 0.34509805, 0.34117648, 0.40392157,\n",
       "        0.        , 0.        , 0.        , 0.        , 0.        ,\n",
       "        0.        , 0.        , 0.        ],\n",
       "       [0.        , 0.        , 0.        , 0.        , 0.        ,\n",
       "        0.        , 0.        , 0.        , 0.04705882, 0.3764706 ,\n",
       "        0.33333334, 0.34117648, 0.34117648, 0.34117648, 0.33333334,\n",
       "        0.34117648, 0.34117648, 0.34509805, 0.34901962, 0.39215687,\n",
       "        0.00784314, 0.        , 0.        , 0.        , 0.        ,\n",
       "        0.        , 0.        , 0.        ],\n",
       "       [0.        , 0.        , 0.        , 0.        , 0.        ,\n",
       "        0.        , 0.        , 0.        , 0.07843138, 0.37254903,\n",
       "        0.32941177, 0.34509805, 0.33333334, 0.34117648, 0.34509805,\n",
       "        0.34509805, 0.34509805, 0.34901962, 0.34509805, 0.3882353 ,\n",
       "        0.03137255, 0.        , 0.        , 0.        , 0.        ,\n",
       "        0.        , 0.        , 0.        ],\n",
       "       [0.        , 0.        , 0.        , 0.        , 0.        ,\n",
       "        0.        , 0.        , 0.        , 0.08235294, 0.3764706 ,\n",
       "        0.33333334, 0.34117648, 0.33333334, 0.34509805, 0.34509805,\n",
       "        0.34509805, 0.34509805, 0.34901962, 0.34901962, 0.3882353 ,\n",
       "        0.03921569, 0.        , 0.        , 0.        , 0.        ,\n",
       "        0.        , 0.        , 0.        ],\n",
       "       [0.        , 0.        , 0.        , 0.        , 0.        ,\n",
       "        0.        , 0.        , 0.        , 0.09411765, 0.3764706 ,\n",
       "        0.33333334, 0.34117648, 0.33333334, 0.34117648, 0.34509805,\n",
       "        0.34509805, 0.34901962, 0.34509805, 0.35686275, 0.4       ,\n",
       "        0.05490196, 0.        , 0.        , 0.        , 0.        ,\n",
       "        0.        , 0.        , 0.        ],\n",
       "       [0.        , 0.        , 0.        , 0.        , 0.        ,\n",
       "        0.        , 0.        , 0.        , 0.09803922, 0.3647059 ,\n",
       "        0.32941177, 0.34509805, 0.34117648, 0.34117648, 0.34117648,\n",
       "        0.34117648, 0.34117648, 0.34901962, 0.35686275, 0.40392157,\n",
       "        0.11372549, 0.        , 0.        , 0.        , 0.        ,\n",
       "        0.        , 0.        , 0.        ],\n",
       "       [0.        , 0.        , 0.        , 0.        , 0.        ,\n",
       "        0.        , 0.        , 0.        , 0.11764706, 0.37254903,\n",
       "        0.33333334, 0.34509805, 0.34509805, 0.34117648, 0.34117648,\n",
       "        0.34117648, 0.34117648, 0.34901962, 0.34509805, 0.4       ,\n",
       "        0.14509805, 0.        , 0.        , 0.        , 0.        ,\n",
       "        0.        , 0.        , 0.        ],\n",
       "       [0.        , 0.        , 0.        , 0.        , 0.        ,\n",
       "        0.        , 0.        , 0.        , 0.13333334, 0.3764706 ,\n",
       "        0.34509805, 0.34117648, 0.34117648, 0.34117648, 0.34117648,\n",
       "        0.34117648, 0.34117648, 0.33333334, 0.33333334, 0.38039216,\n",
       "        0.14901961, 0.        , 0.        , 0.        , 0.        ,\n",
       "        0.        , 0.        , 0.        ],\n",
       "       [0.        , 0.        , 0.        , 0.        , 0.        ,\n",
       "        0.        , 0.        , 0.        , 0.15686275, 0.3764706 ,\n",
       "        0.34117648, 0.33333334, 0.34117648, 0.34117648, 0.34117648,\n",
       "        0.34117648, 0.34117648, 0.33333334, 0.32941177, 0.36078432,\n",
       "        0.19215687, 0.        , 0.        , 0.        , 0.        ,\n",
       "        0.        , 0.        , 0.        ],\n",
       "       [0.        , 0.        , 0.        , 0.        , 0.        ,\n",
       "        0.        , 0.        , 0.        , 0.18039216, 0.37254903,\n",
       "        0.3254902 , 0.32941177, 0.34117648, 0.34117648, 0.34117648,\n",
       "        0.34117648, 0.34117648, 0.34117648, 0.32941177, 0.34117648,\n",
       "        0.32941177, 0.        , 0.        , 0.        , 0.        ,\n",
       "        0.        , 0.        , 0.        ],\n",
       "       [0.        , 0.        , 0.        , 0.        , 0.        ,\n",
       "        0.        , 0.        , 0.        , 0.28235295, 0.37254903,\n",
       "        0.33333334, 0.32941177, 0.33333334, 0.34509805, 0.34117648,\n",
       "        0.34117648, 0.34901962, 0.34117648, 0.33333334, 0.3254902 ,\n",
       "        0.24705882, 0.        , 0.        , 0.        , 0.        ,\n",
       "        0.        , 0.        , 0.        ],\n",
       "       [0.        , 0.        , 0.        , 0.        , 0.        ,\n",
       "        0.        , 0.        , 0.        , 0.2509804 , 0.39215687,\n",
       "        0.32941177, 0.34117648, 0.34509805, 0.33333334, 0.34509805,\n",
       "        0.34509805, 0.32941177, 0.34117648, 0.3254902 , 0.37254903,\n",
       "        0.20784314, 0.        , 0.        , 0.        , 0.        ,\n",
       "        0.        , 0.        , 0.        ],\n",
       "       [0.        , 0.        , 0.        , 0.        , 0.        ,\n",
       "        0.        , 0.        , 0.        , 0.03921569, 0.4       ,\n",
       "        0.39215687, 0.35686275, 0.35686275, 0.34901962, 0.33333334,\n",
       "        0.32941177, 0.32941177, 0.34117648, 0.42352942, 0.41568628,\n",
       "        0.05490196, 0.        , 0.        , 0.        , 0.        ,\n",
       "        0.        , 0.        , 0.        ],\n",
       "       [0.        , 0.        , 0.        , 0.        , 0.        ,\n",
       "        0.        , 0.        , 0.        , 0.        , 0.03137255,\n",
       "        0.28627452, 0.3647059 , 0.40784314, 0.41960785, 0.40392157,\n",
       "        0.40392157, 0.41568628, 0.4       , 0.29411766, 0.03921569,\n",
       "        0.        , 0.        , 0.        , 0.        , 0.        ,\n",
       "        0.        , 0.        , 0.        ],\n",
       "       [0.        , 0.        , 0.        , 0.        , 0.        ,\n",
       "        0.        , 0.        , 0.        , 0.00392157, 0.        ,\n",
       "        0.        , 0.        , 0.07058824, 0.16470589, 0.22352941,\n",
       "        0.21960784, 0.1254902 , 0.03137255, 0.        , 0.        ,\n",
       "        0.00392157, 0.        , 0.        , 0.        , 0.        ,\n",
       "        0.        , 0.        , 0.        ]], dtype=float32)"
      ]
     },
     "execution_count": 8,
     "metadata": {},
     "output_type": "execute_result"
    }
   ],
   "source": [
    "train_x[2]"
   ]
  },
  {
   "cell_type": "code",
   "execution_count": 9,
   "metadata": {},
   "outputs": [],
   "source": [
    "fashion_mnist_labels = [\"T-shirt/top\",  \n",
    "                        \"Trouser\",      \n",
    "                        \"Pullover\",      \n",
    "                        \"Dress\",         \n",
    "                        \"Coat\",         \n",
    "                        \"Sandal\",       \n",
    "                        \"Shirt\",        \n",
    "                        \"Sneaker\",    \n",
    "                        \"Bag\",           \n",
    "                        \"Ankle boot\"]"
   ]
  },
  {
   "cell_type": "code",
   "execution_count": 10,
   "metadata": {},
   "outputs": [
    {
     "name": "stdout",
     "output_type": "stream",
     "text": [
      "Trouser\n"
     ]
    },
    {
     "data": {
      "text/plain": [
       "<matplotlib.image.AxesImage at 0x2401594f8b0>"
      ]
     },
     "execution_count": 10,
     "metadata": {},
     "output_type": "execute_result"
    },
    {
     "data": {
      "image/png": "[encoded data removed]",
      "text/plain": [
       "<Figure size 432x288 with 1 Axes>"
      ]
     },
     "metadata": {
      "needs_background": "light"
     },
     "output_type": "display_data"
    }
   ],
   "source": [
    "index = 143\n",
    "print(fashion_mnist_labels[train_y[index]])\n",
    "plt.imshow(train_x[index])"
   ]
  },
  {
   "cell_type": "code",
   "execution_count": 11,
   "metadata": {},
   "outputs": [],
   "source": [
    "train_x,val_x = train_x[:55000],train_x[55000:]\n",
    "train_y,val_y = train_y[:55000],train_y[55000:]"
   ]
  },
  {
   "cell_type": "code",
   "execution_count": 12,
   "metadata": {},
   "outputs": [
    {
     "data": {
      "text/plain": [
       "(5000, 28, 28)"
      ]
     },
     "execution_count": 12,
     "metadata": {},
     "output_type": "execute_result"
    }
   ],
   "source": [
    "val_x.shape"
   ]
  },
  {
   "cell_type": "code",
   "execution_count": 29,
   "metadata": {},
   "outputs": [
    {
     "data": {
      "text/plain": [
       "(5000,)"
      ]
     },
     "execution_count": 29,
     "metadata": {},
     "output_type": "execute_result"
    }
   ],
   "source": [
    "val_y.shape"
   ]
  },
  {
   "cell_type": "code",
   "execution_count": 30,
   "metadata": {},
   "outputs": [],
   "source": [
    "train_x = train_x.reshape(len(train_x),28,28,1)\n",
    "test_x =test_x.reshape(len(test_x),28,28,1)\n",
    "val_x = val_x.reshape(len(val_x),28,28,1)"
   ]
  },
  {
   "cell_type": "code",
   "execution_count": 31,
   "metadata": {},
   "outputs": [
    {
     "data": {
      "text/plain": [
       "(55000, 28, 28, 1)"
      ]
     },
     "execution_count": 31,
     "metadata": {},
     "output_type": "execute_result"
    }
   ],
   "source": [
    "train_x.shape"
   ]
  },
  {
   "cell_type": "code",
   "execution_count": 33,
   "metadata": {},
   "outputs": [],
   "source": [
    "train_y = to_categorical(train_y,10)\n",
    "val_y = to_categorical(val_y,10)\n",
    "test_y = to_categorical(test_y,10)"
   ]
  },
  {
   "cell_type": "code",
   "execution_count": 35,
   "metadata": {},
   "outputs": [
    {
     "data": {
      "text/plain": [
       "(55000, 10)"
      ]
     },
     "execution_count": 35,
     "metadata": {},
     "output_type": "execute_result"
    }
   ],
   "source": [
    "train_y.shape"
   ]
  },
  {
   "cell_type": "code",
   "execution_count": 38,
   "metadata": {},
   "outputs": [],
   "source": [
    "model = Sequential([\n",
    "    Conv2D(filters = 64,kernel_size=2,padding='same',activation='relu',input_shape=(28,28,1)),\n",
    "    MaxPooling2D(pool_size=2),\n",
    "    Dropout(0.3),\n",
    "    \n",
    "    Conv2D(filters=64,kernel_size=2,padding='same',activation='relu'),\n",
    "    MaxPooling2D(pool_size=2),\n",
    "    Dropout(0.3),\n",
    "    \n",
    "    Flatten(),\n",
    "    Dense(256,activation='relu'),\n",
    "    Dropout(0.5),\n",
    "    Dense(10,activation='softmax')\n",
    "])"
   ]
  },
  {
   "cell_type": "code",
   "execution_count": 39,
   "metadata": {},
   "outputs": [
    {
     "name": "stdout",
     "output_type": "stream",
     "text": [
      "Model: \"sequential_1\"\n",
      "_________________________________________________________________\n",
      "Layer (type)                 Output Shape              Param #   \n",
      "=================================================================\n",
      "conv2d_2 (Conv2D)            (None, 28, 28, 64)        320       \n",
      "_________________________________________________________________\n",
      "max_pooling2d_1 (MaxPooling2 (None, 14, 14, 64)        0         \n",
      "_________________________________________________________________\n",
      "dropout (Dropout)            (None, 14, 14, 64)        0         \n",
      "_________________________________________________________________\n",
      "conv2d_3 (Conv2D)            (None, 14, 14, 64)        16448     \n",
      "_________________________________________________________________\n",
      "max_pooling2d_2 (MaxPooling2 (None, 7, 7, 64)          0         \n",
      "_________________________________________________________________\n",
      "dropout_1 (Dropout)          (None, 7, 7, 64)          0         \n",
      "_________________________________________________________________\n",
      "flatten_1 (Flatten)          (None, 3136)              0         \n",
      "_________________________________________________________________\n",
      "dense_3 (Dense)              (None, 256)               803072    \n",
      "_________________________________________________________________\n",
      "dropout_2 (Dropout)          (None, 256)               0         \n",
      "_________________________________________________________________\n",
      "dense_4 (Dense)              (None, 10)                2570      \n",
      "=================================================================\n",
      "Total params: 822,410\n",
      "Trainable params: 822,410\n",
      "Non-trainable params: 0\n",
      "_________________________________________________________________\n"
     ]
    }
   ],
   "source": [
    "model.summary()"
   ]
  },
  {
   "cell_type": "code",
   "execution_count": 40,
   "metadata": {},
   "outputs": [],
   "source": [
    "model.compile(\n",
    "optimizer = 'adam',\n",
    "loss = 'categorical_crossentropy',\n",
    "metrics = ['accuracy'])"
   ]
  },
  {
   "cell_type": "code",
   "execution_count": 44,
   "metadata": {},
   "outputs": [],
   "source": [
    "checkpointer = ModelCheckpoint(filepath = 'model.weights.best.hdf5',verbose = 1,save_best_only = True)\n"
   ]
  },
  {
   "cell_type": "code",
   "execution_count": 46,
   "metadata": {},
   "outputs": [
    {
     "name": "stdout",
     "output_type": "stream",
     "text": [
      "Epoch 1/10\n",
      "860/860 [==============================] - 90s 102ms/step - loss: 0.7589 - accuracy: 0.7190 - val_loss: 0.3672 - val_accuracy: 0.8672\n",
      "\n",
      "Epoch 00001: val_loss improved from inf to 0.36724, saving model to model.weights.best.hdf5\n",
      "Epoch 2/10\n",
      "860/860 [==============================] - 84s 98ms/step - loss: 0.4018 - accuracy: 0.8536 - val_loss: 0.3019 - val_accuracy: 0.8892\n",
      "\n",
      "Epoch 00002: val_loss improved from 0.36724 to 0.30187, saving model to model.weights.best.hdf5\n",
      "Epoch 3/10\n",
      "860/860 [==============================] - 83s 97ms/step - loss: 0.3455 - accuracy: 0.8773 - val_loss: 0.2845 - val_accuracy: 0.8924\n",
      "\n",
      "Epoch 00003: val_loss improved from 0.30187 to 0.28449, saving model to model.weights.best.hdf5\n",
      "Epoch 4/10\n",
      "860/860 [==============================] - 85s 99ms/step - loss: 0.3115 - accuracy: 0.8853 - val_loss: 0.2633 - val_accuracy: 0.9016\n",
      "\n",
      "Epoch 00004: val_loss improved from 0.28449 to 0.26329, saving model to model.weights.best.hdf5\n",
      "Epoch 5/10\n",
      "860/860 [==============================] - 86s 100ms/step - loss: 0.2930 - accuracy: 0.8936 - val_loss: 0.2502 - val_accuracy: 0.9088\n",
      "\n",
      "Epoch 00005: val_loss improved from 0.26329 to 0.25016, saving model to model.weights.best.hdf5\n",
      "Epoch 6/10\n",
      "860/860 [==============================] - 87s 101ms/step - loss: 0.2766 - accuracy: 0.8985 - val_loss: 0.2405 - val_accuracy: 0.9120\n",
      "\n",
      "Epoch 00006: val_loss improved from 0.25016 to 0.24054, saving model to model.weights.best.hdf5\n",
      "Epoch 7/10\n",
      "860/860 [==============================] - 86s 100ms/step - loss: 0.2648 - accuracy: 0.9024 - val_loss: 0.2342 - val_accuracy: 0.9100\n",
      "\n",
      "Epoch 00007: val_loss improved from 0.24054 to 0.23418, saving model to model.weights.best.hdf5\n",
      "Epoch 8/10\n",
      "860/860 [==============================] - 87s 101ms/step - loss: 0.2587 - accuracy: 0.9066 - val_loss: 0.2208 - val_accuracy: 0.9164\n",
      "\n",
      "Epoch 00008: val_loss improved from 0.23418 to 0.22082, saving model to model.weights.best.hdf5\n",
      "Epoch 9/10\n",
      "860/860 [==============================] - 86s 100ms/step - loss: 0.2424 - accuracy: 0.9120 - val_loss: 0.2183 - val_accuracy: 0.9184\n",
      "\n",
      "Epoch 00009: val_loss improved from 0.22082 to 0.21835, saving model to model.weights.best.hdf5\n",
      "Epoch 10/10\n",
      "860/860 [==============================] - 84s 98ms/step - loss: 0.2367 - accuracy: 0.9131 - val_loss: 0.2240 - val_accuracy: 0.9160\n",
      "\n",
      "Epoch 00010: val_loss did not improve from 0.21835\n"
     ]
    },
    {
     "data": {
      "text/plain": [
       "<tensorflow.python.keras.callbacks.History at 0x24017f20e20>"
      ]
     },
     "execution_count": 46,
     "metadata": {},
     "output_type": "execute_result"
    }
   ],
   "source": [
    "model.fit(train_x,train_y,batch_size = 64,epochs=10,\n",
    "          validation_data=(val_x,val_y),\n",
    "         callbacks = [checkpointer])"
   ]
  },
  {
   "cell_type": "code",
   "execution_count": 47,
   "metadata": {},
   "outputs": [],
   "source": [
    "model.load_weights('model.weights.best.hdf5')"
   ]
  },
  {
   "cell_type": "code",
   "execution_count": 49,
   "metadata": {},
   "outputs": [],
   "source": [
    "score = model.evaluate(test_x,test_y,verbose=0)"
   ]
  },
  {
   "cell_type": "code",
   "execution_count": 50,
   "metadata": {},
   "outputs": [
    {
     "name": "stdout",
     "output_type": "stream",
     "text": [
      "test accuracy :  0.9150000214576721\n"
     ]
    }
   ],
   "source": [
    "print(\"test accuracy : \",score[1])"
   ]
  },
  {
   "cell_type": "code",
   "execution_count": 52,
   "metadata": {},
   "outputs": [],
   "source": [
    "pred_y = model.predict(test_x)"
   ]
  },
  {
   "cell_type": "code",
   "execution_count": 58,
   "metadata": {},
   "outputs": [
    {
     "data": {
      "text/plain": [
       "array([0., 0., 1., 0., 0., 0., 0., 0., 0., 0.], dtype=float32)"
      ]
     },
     "execution_count": 58,
     "metadata": {},
     "output_type": "execute_result"
    }
   ],
   "source": [
    "test_y[1]"
   ]
  },
  {
   "cell_type": "code",
   "execution_count": 59,
   "metadata": {},
   "outputs": [
    {
     "data": {
      "text/plain": [
       "2"
      ]
     },
     "execution_count": 59,
     "metadata": {},
     "output_type": "execute_result"
    }
   ],
   "source": [
    "np.argmax(pred_y[1])"
   ]
  },
  {
   "cell_type": "code",
   "execution_count": 61,
   "metadata": {},
   "outputs": [
    {
     "name": "stdout",
     "output_type": "stream",
     "text": [
      "INFO:tensorflow:Assets written to: MNIST_fashion_classifier_CNN\\assets\n"
     ]
    }
   ],
   "source": [
    "model.save('MNIST_fashion_classifier_CNN')"
   ]
  },
  {
   "cell_type": "code",
   "execution_count": null,
   "metadata": {},
   "outputs": [],
   "source": []
  }
 ],
 "metadata": {
  "kernelspec": {
   "display_name": "Python 3",
   "language": "python",
   "name": "python3"
  },
  "language_info": {
   "codemirror_mode": {
    "name": "ipython",
    "version": 3
   },
   "file_extension": ".py",
   "mimetype": "text/x-python",
   "name": "python",
   "nbconvert_exporter": "python",
   "pygments_lexer": "ipython3",
   "version": "3.8.3"
  }
 },
 "nbformat": 4,
 "nbformat_minor": 4
}
